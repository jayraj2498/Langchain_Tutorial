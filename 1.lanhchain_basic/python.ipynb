{
 "cells": [
  {
   "cell_type": "code",
   "execution_count": 27,
   "metadata": {},
   "outputs": [],
   "source": [
    "OPENAI_API_KEY=''"
   ]
  },
  {
   "cell_type": "code",
   "execution_count": 1,
   "metadata": {},
   "outputs": [],
   "source": [
    "# from decouple import config \n",
    "# SECRET_KEY= config('OPENAI_API_KEY')\n",
    "# # print(SECRET_KEY)"
   ]
  },
  {
   "cell_type": "code",
   "execution_count": 31,
   "metadata": {},
   "outputs": [],
   "source": [
    "OPENAI_API_KEY=''"
   ]
  },
  {
   "cell_type": "code",
   "execution_count": 1,
   "metadata": {},
   "outputs": [],
   "source": [
    "from langchain_openai import OpenAI "
   ]
  },
  {
   "cell_type": "markdown",
   "metadata": {},
   "source": [
    "### LLM"
   ]
  },
  {
   "cell_type": "code",
   "execution_count": 33,
   "metadata": {},
   "outputs": [
    {
     "name": "stdout",
     "output_type": "stream",
     "text": [
      "\n",
      "\n",
      "As of October 2021, the current prime minister of India is Narendra Modi.\n"
     ]
    }
   ],
   "source": [
    "llm= OpenAI(openai_api_key=OPENAI_API_KEY) \n",
    "response=llm.invoke(\"who is the prime minister of India ?\") \n",
    "print(response)"
   ]
  },
  {
   "cell_type": "markdown",
   "metadata": {},
   "source": [
    "### chat Model "
   ]
  },
  {
   "cell_type": "code",
   "execution_count": 35,
   "metadata": {},
   "outputs": [],
   "source": [
    "from langchain_openai import ChatOpenAI"
   ]
  },
  {
   "cell_type": "code",
   "execution_count": 38,
   "metadata": {},
   "outputs": [
    {
     "name": "stdout",
     "output_type": "stream",
     "text": [
      "Canberra\n"
     ]
    }
   ],
   "source": [
    "# ex :1 \n",
    "\n",
    "chatai=ChatOpenAI(openai_api_key=OPENAI_API_KEY)\n",
    "response=chatai.invoke(\"what is the capital of Austrilia tell  me in one word ?\") \n",
    "# print(response) \n",
    "print(response.content) "
   ]
  },
  {
   "cell_type": "markdown",
   "metadata": {},
   "source": [
    "#### behaviour of msg "
   ]
  },
  {
   "cell_type": "code",
   "execution_count": 39,
   "metadata": {},
   "outputs": [],
   "source": [
    "from langchain_core.messages import HumanMessage \n",
    "from langchain_core.messages import SystemMessage"
   ]
  },
  {
   "cell_type": "code",
   "execution_count": 42,
   "metadata": {},
   "outputs": [
    {
     "name": "stdout",
     "output_type": "stream",
     "text": [
      "Virat Kohli is like a human cricket machine, always hitting boundaries and breaking records with his swagger and style! If cricket had a superhero, he would definitely be the captain of the team!\n"
     ]
    }
   ],
   "source": [
    "# ex :2 \n",
    "\n",
    "llm=ChatOpenAI(openai_api_key=OPENAI_API_KEY) \n",
    "\n",
    "messages = [ \n",
    "            SystemMessage(content=\"you are an standop comedian\") ,   #<-- give commnad to sys how to behave \n",
    "            HumanMessage(content=\"tell me about virat kholi in 2 lines\")]    # <-- give me commnad for require op\n",
    "\n",
    "response =llm.invoke(messages)  \n",
    "\n",
    "# print(response)   \n",
    "\n",
    "print(response.content)\n"
   ]
  },
  {
   "cell_type": "code",
   "execution_count": 43,
   "metadata": {},
   "outputs": [
    {
     "name": "stdout",
     "output_type": "stream",
     "text": [
      "content='Statistics is the mathematical study of collecting, organizing, analyzing, and interpreting data to make informed decisions.' response_metadata={'token_usage': {'completion_tokens': 20, 'prompt_tokens': 24, 'total_tokens': 44}, 'model_name': 'gpt-3.5-turbo', 'system_fingerprint': None, 'finish_reason': 'stop', 'logprobs': None} id='run-7c379172-9756-4ba8-a572-f4a2a09dca99-0'\n"
     ]
    }
   ],
   "source": [
    "chat=ChatOpenAI(openai_api_key=OPENAI_API_KEY) \n",
    "\n",
    "messages = [ \n",
    "            SystemMessage(content=\"you are an math teacher\") , \n",
    "            HumanMessage(content=\"tell me about statistics in one line \")] \n",
    "\n",
    "res=chat.invoke(messages)  \n",
    "\n",
    "print(res)"
   ]
  },
  {
   "cell_type": "code",
   "execution_count": null,
   "metadata": {},
   "outputs": [],
   "source": []
  }
 ],
 "metadata": {
  "kernelspec": {
   "display_name": "base",
   "language": "python",
   "name": "python3"
  },
  "language_info": {
   "codemirror_mode": {
    "name": "ipython",
    "version": 3
   },
   "file_extension": ".py",
   "mimetype": "text/x-python",
   "name": "python",
   "nbconvert_exporter": "python",
   "pygments_lexer": "ipython3",
   "version": "3.11.7"
  }
 },
 "nbformat": 4,
 "nbformat_minor": 2
}
