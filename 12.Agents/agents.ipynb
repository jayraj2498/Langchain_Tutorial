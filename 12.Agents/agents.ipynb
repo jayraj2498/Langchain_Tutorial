{
 "cells": [
  {
   "cell_type": "markdown",
   "metadata": {},
   "source": [
    "## Agents \n",
    "\n",
    "To best understand the agent framework , lets build the agent framework that has 2 tools \n",
    "one to look thing up online and one look up specific data that we loaded into . \n",
    "\n",
    "In LangChain, an agent is a component that can interact with a language model to perform tasks, make decisions, or respond to user input. Think of an agent as a smart assistant that can handle various tasks by understanding and processing language inputs.\n",
    "\n",
    "\n",
    "Agents are an advanced feature in LangChain that allow you to create intelligent applications that can make decisions based on the information they have \n",
    "In LangChain, an agent is a special type of tool or component that can perform a variety of tasks, such as querying APIs, searching the internet, or manipulating data. Agents can be combined with other agents or tools to create more complex workflows or applications.\n",
    "\n",
    "They use tools, such as models and memory, to process information, make decisions, and carry out tasks. Agents are highly customizable and can be designed to handle complex workflows."
   ]
  },
  {
   "cell_type": "markdown",
   "metadata": {},
   "source": [
    "Types of Agents in LangChain\n",
    "\n",
    "Action Agents: These agents perform specific actions based on user input or a given task. They can use external tools or APIs to accomplish their tasks.\n",
    "\n",
    "Conversational Agents: These agents engage in conversations with users, maintaining context and managing the flow of dialogue.\n",
    "\n",
    "Retrieval Agents: These agents retrieve information from databases, documents, or other sources in response to a query."
   ]
  },
  {
   "cell_type": "markdown",
   "metadata": {},
   "source": [
    "### Core Components of Agents\n",
    "\n",
    "AgentExecutor: This is the main component that runs the agent's decision-making loop. It takes an agent and an input, processes the input, and executes the agent's actions.\n",
    "\n",
    "Agent: The agent itself, which contains the logic for decision making. An agent consists of a model, a memory, and a set of tools it can use.\n",
    "\n",
    "Memory: Stores the agent's state and past interactions. This helps the agent maintain context over multiple interactions.\n",
    "\n",
    "Tools: Functions or external resources that the agent can use to perform tasks. Examples include search engines, databases, or APIs.\n",
    "\n",
    "LLM (Language Learning Model): The core model that powers the agent's natural language understanding and generation capabilities."
   ]
  },
  {
   "cell_type": "code",
   "execution_count": 3,
   "metadata": {},
   "outputs": [],
   "source": [
    "from decouple import config \n",
    "secrete_key = config('OPENAI_API_KEY') "
   ]
  },
  {
   "cell_type": "code",
   "execution_count": 4,
   "metadata": {},
   "outputs": [],
   "source": [
    "from langchain_openai import ChatOpenAI  \n",
    "chat =ChatOpenAI(openai_api_key=secrete_key)"
   ]
  },
  {
   "cell_type": "markdown",
   "metadata": {},
   "source": [
    "### agent types  \n",
    "\n",
    "#### 1)openai function  \n",
    "\n"
   ]
  },
  {
   "cell_type": "code",
   "execution_count": null,
   "metadata": {},
   "outputs": [],
   "source": [
    "# in openai function we can use tools in various types of operation like  \n",
    "  \n",
    "# pip install duckduckgo-search    <-- by using duck duckgo serach we can search current data  "
   ]
  },
  {
   "cell_type": "code",
   "execution_count": 6,
   "metadata": {},
   "outputs": [],
   "source": [
    "from langchain import hub \n",
    "\n",
    "prompt =hub.pull(\"hwchase17/openai-functions-agent\")   # <-- there are various prompts we use these  "
   ]
  },
  {
   "cell_type": "code",
   "execution_count": 7,
   "metadata": {},
   "outputs": [
    {
     "name": "stdout",
     "output_type": "stream",
     "text": [
      "input_variables=['agent_scratchpad', 'input'] input_types={'chat_history': typing.List[typing.Union[langchain_core.messages.ai.AIMessage, langchain_core.messages.human.HumanMessage, langchain_core.messages.chat.ChatMessage, langchain_core.messages.system.SystemMessage, langchain_core.messages.function.FunctionMessage, langchain_core.messages.tool.ToolMessage]], 'agent_scratchpad': typing.List[typing.Union[langchain_core.messages.ai.AIMessage, langchain_core.messages.human.HumanMessage, langchain_core.messages.chat.ChatMessage, langchain_core.messages.system.SystemMessage, langchain_core.messages.function.FunctionMessage, langchain_core.messages.tool.ToolMessage]]} metadata={'lc_hub_owner': 'hwchase17', 'lc_hub_repo': 'openai-functions-agent', 'lc_hub_commit_hash': 'a1655024b06afbd95d17449f21316291e0726f13dcfaf990cc0d18087ad689a5'} messages=[SystemMessagePromptTemplate(prompt=PromptTemplate(input_variables=[], template='You are a helpful assistant')), MessagesPlaceholder(variable_name='chat_history', optional=True), HumanMessagePromptTemplate(prompt=PromptTemplate(input_variables=['input'], template='{input}')), MessagesPlaceholder(variable_name='agent_scratchpad')]\n"
     ]
    }
   ],
   "source": [
    "print(prompt) "
   ]
  },
  {
   "cell_type": "code",
   "execution_count": 10,
   "metadata": {},
   "outputs": [],
   "source": [
    "from langchain_community.tools import DuckDuckGoSearchRun  \n",
    "from langchain.agents import create_openai_functions_agent  , AgentExecutor  "
   ]
  },
  {
   "cell_type": "code",
   "execution_count": 13,
   "metadata": {},
   "outputs": [
    {
     "name": "stdout",
     "output_type": "stream",
     "text": [
      "\n",
      "\n",
      "\u001b[1m> Entering new AgentExecutor chain...\u001b[0m\n",
      "\u001b[32;1m\u001b[1;3m\n",
      "Invoking: `duckduckgo_search` with `{'query': 'current prime minister of India'}`\n",
      "\n",
      "\n",
      "\u001b[0m\u001b[36;1m\u001b[1;3mThe current prime minister came to power in 2014, dislodging the Congress party that governed the country for nearly 55 years after India won independence from British colonialists in 1947. The prime minister of India ... Modi is the 14th and current prime minister of India, serving since 26 May 2014. Origins and history. India follows a parliamentary system in which the prime minister is the presiding head of the government and chief of the executive of the government. The Prime Minister, Shri Narendra Modi addressed the 6th edition of the International Conference on Disaster Resilient Infrastructure via video message today. PM's address on 2550th Bhagwan Mahavir Nirvan Mahotsav at Bharat Mandapam, New Delhi. 21 Apr, 2024. This magnificent building of Bharat Mandapam is witnessing the beginning of the ... Narendra Modi (born September 17, 1950, Vadnagar, India) is an Indian politician and government official who rose to become a senior leader of the Bharatiya Janata Party (BJP). In 2014 he led his party to victory in elections to the Lok Sabha (lower chamber of the Indian parliament), after which he was sworn in as prime minister of India.Prior to that he had served (2001-14) as chief ... VARANASI, India (AP) — Indian Prime Minister Narendra Modi was in the holy Hindu city of Varanasi on Tuesday surrounded by his party leaders and supporters as he formally filed paperwork to run in an ongoing election that is essentially a referendum on his decade in power. The 73-year-old leader hopes to retain his seat in Varanasi, the ...\u001b[0m\u001b[32;1m\u001b[1;3m\n",
      "Invoking: `duckduckgo_search` with `{'query': \"today's date\"}`\n",
      "responded: The current Prime Minister of India is Narendra Modi. \n",
      "\n",
      "Now, let me check today's date for you.\n",
      "\n",
      "\u001b[0m\u001b[36;1m\u001b[1;3mFind out the current date, time zone, day number, week number, month number, leap year, daylight saving time, and more. See today's date in different formats and learn about upcoming holidays and zodiac signs. Today's Date Now. Today's current date and time with time zone and date picker: Select locale. This page includes the following information: Today's date: day of week, month, day, year. Current time: hours, minutes, seconds. Time zone with location and GMT offset. Date picker of current date. Calendar chart. Your clock is 0.2 seconds behind. Accuracy of synchronization was ±0.226 seconds. Time in New York, United States now: : 5:50pm. Monday, May 27, 2024. Sun: ↑ 05:28AM ↓ 08:19PM (14h 51m) - More info - Make New York time default - Remove from favorite locations. Tokyo. Find out what day is it today and what holidays and celebrations are coming up in the United States. See the calendar for 2024 and 2025 with moon phases, week numbers and day of the year. Find out the current date, time, time zone, sunrise, sunset, moon phase, holidays and events for today. See also days from today calculator and today in history.\u001b[0m\u001b[32;1m\u001b[1;3mToday's date is Monday, May 27, 2024.\u001b[0m\n",
      "\n",
      "\u001b[1m> Finished chain.\u001b[0m\n",
      "{'input': 'who is the current prome minister of india and what is the todays date ?', 'output': \"Today's date is Monday, May 27, 2024.\"}\n"
     ]
    }
   ],
   "source": [
    "search =DuckDuckGoSearchRun()  \n",
    "tools= [search]  \n",
    "\n",
    "agent = create_openai_functions_agent(llm=chat , tools=tools , prompt=prompt )  \n",
    "# run agents \n",
    "\n",
    "agent_executor = AgentExecutor(agent=agent , tools=tools, verbose=True)  \n",
    "\n",
    "\n",
    "response =agent_executor.invoke({\"input\": \"who is the current prome minister of india and what is the todays date ?\"}) \n",
    "\n",
    "print(response) "
   ]
  },
  {
   "cell_type": "markdown",
   "metadata": {},
   "source": [
    "### 2) ReAct "
   ]
  },
  {
   "cell_type": "code",
   "execution_count": 16,
   "metadata": {},
   "outputs": [],
   "source": [
    "from  langchain import hub \n",
    "from langchain.agents import AgentExecutor , create_react_agent "
   ]
  },
  {
   "cell_type": "code",
   "execution_count": 17,
   "metadata": {},
   "outputs": [],
   "source": [
    "# Get the prompt to use - you can modify this!\n",
    "prompt = hub.pull(\"hwchase17/react\")"
   ]
  },
  {
   "cell_type": "code",
   "execution_count": 18,
   "metadata": {},
   "outputs": [
    {
     "name": "stdout",
     "output_type": "stream",
     "text": [
      "\n",
      "\n",
      "\u001b[1m> Entering new AgentExecutor chain...\u001b[0m\n",
      "\u001b[32;1m\u001b[1;3mI should search for the winner of the IPL 2024 title.\n",
      "Action: duckduckgo_search\n",
      "Action Input: IPL 2024 winner\u001b[0m\u001b[36;1m\u001b[1;3mKolkata Knight Riders won arguably the most one-sided final in the 2024 Indian Premier League, beating Sunrisers Hyderabad by eight wickets and here are the list of IPL 2024 winners.. Champions Kolkata Knight Riders won the IPL trophy for the third time, clinching the title after a gap of ten years. They also won a prize money of INR 20 crore.. Runners-up Sunrisers Hyderabad won INR 12.5 crore. Kolkata Knight Riders' previous IPL titles came in 2012 and 2014 Indian Premier League final, Chennai Sunrisers Hyderabad 113 all out (18.3 overs): Cummins 24 (19); Russell 3-19, Starc 2-14 ... IPL 2024 Winners: Skipper Shreyas Iyer collects the IPL 2024 trophy and the winner's cheque of INR 20 crore for Kolkata Knight Riders. May 27, 2024, 12:20 am IST. Virat Kohli Speaks After Winning Orange Cap for IPL 2024. Virat Kohli: Extremely honoured to win the orange cap this season. It was a rollercoaster of a ride, I was really pleased ... Kolkata Knight Riders won the IPL 2024 by beating Sunrisers Hyderabad by eight wickets in the final at the M.A. Chidambaram Stadium in Chennai on Sunday. Here is the full list of awards for the Indian Premier League 2024 season: IPL 2024 AWARDS. Winner (Rs. 20 crore) - Kolkata Knight Riders; Runner Up (Rs. 12.5 crore) - Sunrisers Hyderabad The 2024 IIPL saw Kolkata Knight Riders secure their third title and INR 20 crore prize money. The tournament had a total prize pool of INR 46.5 crore, distributed among winners, runners-up, and ...\u001b[0m\u001b[32;1m\u001b[1;3mI now know the final answer\n",
      "Final Answer: Kolkata Knight Riders won the IPL 2024 title.\u001b[0m\n",
      "\n",
      "\u001b[1m> Finished chain.\u001b[0m\n",
      "{'input': 'which team win ipl 2024 title ?', 'output': 'Kolkata Knight Riders won the IPL 2024 title.'}\n"
     ]
    }
   ],
   "source": [
    "search =DuckDuckGoSearchRun()  \n",
    "tools= [search]  \n",
    "\n",
    "agent = create_react_agent(llm=chat , tools=tools , prompt=prompt )  \n",
    "# run agents \n",
    "\n",
    "agent_executor = AgentExecutor(agent=agent , tools=tools, verbose=True)  \n",
    "\n",
    "\n",
    "response =agent_executor.invoke({\"input\": \"which team win ipl 2024 title ?\"}) \n",
    "\n",
    "print(response) "
   ]
  },
  {
   "cell_type": "code",
   "execution_count": 19,
   "metadata": {},
   "outputs": [],
   "source": [
    "from langchain.pydantic_v1 import BaseModel , Field \n",
    "from langchain.tools import BaseTool , StructuredTool , tool  \n",
    "\n",
    "\n"
   ]
  },
  {
   "cell_type": "code",
   "execution_count": null,
   "metadata": {},
   "outputs": [],
   "source": [
    "# custom tools using decorater \n",
    "@tool \n",
    "\n",
    "def search(query:str)-> str : \n",
    "    return \"langchain\"  \n",
    "\n",
    "\n"
   ]
  },
  {
   "cell_type": "markdown",
   "metadata": {},
   "source": [
    "Mutable Agent:\n",
    "\n",
    "This is a simple agent that can execute a sequence of actions based on an input. It maintains a memory (a list of previous inputs and outputs) and can modify its own memory during execution."
   ]
  },
  {
   "cell_type": "code",
   "execution_count": null,
   "metadata": {},
   "outputs": [],
   "source": [
    "from langchain.agents import AgentType, initialize_agent\n",
    "from langchain.memory import ConversationBufferMemory\n",
    "\n",
    "memory = ConversationBufferMemory()\n",
    "mutable_agent = initialize_agent(AgentType.MUTABLE, memory=memory, agent=\"mutable\", verbose=True)\n",
    "\n",
    "mutable_agent.run(\"What is 2 + 2?\")"
   ]
  },
  {
   "cell_type": "markdown",
   "metadata": {},
   "source": [
    "Conversational Agent: \n",
    "\n",
    "This agent is designed for multi-turn conversations. It maintains a conversation history and uses it to provide more contextual responses.\n"
   ]
  },
  {
   "cell_type": "code",
   "execution_count": null,
   "metadata": {},
   "outputs": [],
   "source": [
    "from langchain.agents import initialize_agent\n",
    "from langchain.memory import ConversationBufferMemory\n",
    "\n",
    "memory = ConversationBufferMemory()\n",
    "conversational_agent = initialize_agent(AgentType.CONVERSATIONAL, memory=memory, verbose=True)\n",
    "\n",
    "conversational_agent.run(\"What is the capital of France?\")\n",
    "conversational_agent.run(\"What is the population of that city?\")"
   ]
  },
  {
   "cell_type": "markdown",
   "metadata": {},
   "source": [
    "Reaction Agent: \n",
    "\n",
    "This agent is designed to react to specific inputs or events. It can be used for tasks like monitoring social media or responding to customer inquiries."
   ]
  },
  {
   "cell_type": "code",
   "execution_count": null,
   "metadata": {},
   "outputs": [],
   "source": [
    "from langchain.agents import initialize_agent\n",
    "from langchain.agents.reaction.base import ReactionAgent\n",
    "\n",
    "reaction_agent = ReactionAgent.from_react_fn(lambda x: f\"You said: {x}\")\n",
    "\n",
    "reaction_agent.run(\"Hello\")"
   ]
  },
  {
   "cell_type": "markdown",
   "metadata": {},
   "source": [
    "AI Agent: \n",
    "\n",
    "This is a powerful agent that can perform complex tasks by breaking them down into smaller steps and reasoning about the best way to accomplish them. It uses a language model to generate plans and execute them."
   ]
  },
  {
   "cell_type": "code",
   "execution_count": null,
   "metadata": {},
   "outputs": [],
   "source": [
    "from langchain.agents import initialize_agent\n",
    "from langchain.agents import AgentType\n",
    "\n",
    "ai_agent = initialize_agent(AgentType.AI_AGENT, \n",
    "                            ai_path=\"/path/to/ai_model.pth\",\n",
    "                            verbose=True)\n",
    "\n",
    "ai_agent.run(\"Who was the 16th president of the United States?\")"
   ]
  },
  {
   "cell_type": "code",
   "execution_count": null,
   "metadata": {},
   "outputs": [],
   "source": []
  },
  {
   "cell_type": "code",
   "execution_count": null,
   "metadata": {},
   "outputs": [],
   "source": []
  },
  {
   "cell_type": "code",
   "execution_count": null,
   "metadata": {},
   "outputs": [],
   "source": [
    "from langchain.agents import ConversationalAgent\n",
    "\n",
    "class GreetingAgent(ConversationalAgent):\n",
    "    def __init__(self):\n",
    "        super().__init__()\n",
    "\n",
    "    def run(self, inputs):\n",
    "        user_message = inputs.get(\"message\")\n",
    "        if \"hello\" in user_message.lower():\n",
    "            return {\"response\": \"Hello! How can I help you today?\"}\n",
    "        else:\n",
    "            return {\"response\": \"I'm not sure how to respond to that.\"}\n",
    "\n",
    "# Create an instance of the agent\n",
    "agent = GreetingAgent()\n",
    "\n",
    "# Define the input for the agent\n",
    "inputs = {\n",
    "    \"message\": \"Hello\"\n",
    "}\n",
    "\n",
    "# Run the agent with the inputs\n",
    "output = agent.run(inputs)\n",
    "print(output)  # Output: {'response': 'Hello! How can I help you today?'}\n"
   ]
  },
  {
   "cell_type": "code",
   "execution_count": null,
   "metadata": {},
   "outputs": [],
   "source": [
    "from langchain.agents import ActionAgent\n",
    "from langchain.actions import BaseAction\n",
    "\n",
    "# Define a simple action to add two numbers\n",
    "class AddAction(BaseAction):\n",
    "    def run(self, inputs):\n",
    "        num1 = inputs.get(\"num1\")\n",
    "        num2 = inputs.get(\"num2\")\n",
    "        if num1 is None or num2 is None:\n",
    "            return {\"result\": \"Please provide both numbers.\"}\n",
    "        try:\n",
    "            result = float(num1) + float(num2)\n",
    "            return {\"result\": result}\n",
    "        except ValueError:\n",
    "            return {\"result\": \"Invalid input. Please provide numeric values.\"}\n",
    "\n",
    "# Define the agent that will use this action\n",
    "class SimpleMathAgent(ActionAgent):\n",
    "    def __init__(self):\n",
    "        super().__init__()\n",
    "        self.add_action(\"add\", AddAction())\n",
    "\n",
    "# Create an instance of the agent\n",
    "agent = SimpleMathAgent()\n",
    "\n",
    "# Define the input for the agent\n",
    "inputs = {\n",
    "    \"action\": \"add\",\n",
    "    \"num1\": \"5\",\n",
    "    \"num2\": \"3\"\n",
    "}\n",
    "\n",
    "# Run the agent with the inputs\n",
    "output = agent.run(inputs)\n",
    "print(output)  \n"
   ]
  },
  {
   "cell_type": "code",
   "execution_count": null,
   "metadata": {},
   "outputs": [],
   "source": []
  },
  {
   "cell_type": "code",
   "execution_count": null,
   "metadata": {},
   "outputs": [],
   "source": []
  },
  {
   "cell_type": "code",
   "execution_count": null,
   "metadata": {},
   "outputs": [],
   "source": []
  },
  {
   "cell_type": "code",
   "execution_count": null,
   "metadata": {},
   "outputs": [],
   "source": []
  },
  {
   "cell_type": "code",
   "execution_count": null,
   "metadata": {},
   "outputs": [],
   "source": []
  }
 ],
 "metadata": {
  "kernelspec": {
   "display_name": "base",
   "language": "python",
   "name": "python3"
  },
  "language_info": {
   "codemirror_mode": {
    "name": "ipython",
    "version": 3
   },
   "file_extension": ".py",
   "mimetype": "text/x-python",
   "name": "python",
   "nbconvert_exporter": "python",
   "pygments_lexer": "ipython3",
   "version": "3.11.7"
  }
 },
 "nbformat": 4,
 "nbformat_minor": 2
}
