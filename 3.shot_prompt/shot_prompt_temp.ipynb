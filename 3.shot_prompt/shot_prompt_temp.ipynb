{
 "cells": [
  {
   "cell_type": "markdown",
   "metadata": {},
   "source": [
    "## In few shot prompt template you give more than 1 or more example to your model and generate op "
   ]
  },
  {
   "cell_type": "markdown",
   "metadata": {},
   "source": [
    "- in few short prompty template can construted from either a \" set of example \"\n",
    "- it can generate ouput also , but you give few shot example to model that if these type of input comes then \n",
    "    give me that type of output "
   ]
  },
  {
   "cell_type": "code",
   "execution_count": 2,
   "metadata": {},
   "outputs": [],
   "source": [
    "# from decouple import config \n",
    "# SECRET_KEY= config('OPENAI_API_KEY')\n",
    "# print(SECRET_KEY)"
   ]
  },
  {
   "cell_type": "code",
   "execution_count": 5,
   "metadata": {},
   "outputs": [],
   "source": [
    "from langchain_openai import OpenAI \n",
    "llm= OpenAI(openai_api_key=OPENAI_API_KEY) "
   ]
  },
  {
   "cell_type": "code",
   "execution_count": 6,
   "metadata": {},
   "outputs": [],
   "source": [
    "from langchain.prompts import PromptTemplate \n",
    "from langchain.prompts import FewShotPromptTemplate  "
   ]
  },
  {
   "cell_type": "code",
   "execution_count": null,
   "metadata": {},
   "outputs": [],
   "source": [
    "# few shot example "
   ]
  },
  {
   "cell_type": "code",
   "execution_count": 17,
   "metadata": {},
   "outputs": [
    {
     "name": "stdout",
     "output_type": "stream",
     "text": [
      " The patient is  male smoker with a history of hypertension and diabetes presents to\n",
      "         the emergency room with sudden onset chest pain radiating to the jaw, associated\n",
      "         with diaphoresis and shortness of breath.\n",
      "The patient is  male smoker with a history of hypertension and diabetes,\n",
      "         is exhibiting symptoms suggestive of a myocardial infasrction, including chest pain radiating to\n",
      "         the jaw, sweating, and difficulty breathing, necessitating immediate evaluation for a heart attack\n"
     ]
    }
   ],
   "source": [
    "examples = [ \n",
    "        {\"input\": \"\"\" The patient is  male smoker with a history of hypertension and diabetes presents to\n",
    "         the emergency room with sudden onset chest pain radiating to the jaw, associated\n",
    "         with diaphoresis and shortness of breath.\"\"\",\n",
    "         \n",
    "         \"output\": \"\"\"The patient is  male smoker with a history of hypertension and diabetes,\n",
    "         is exhibiting symptoms suggestive of a myocardial infasrction, including chest pain radiating to\n",
    "         the jaw, sweating, and difficulty breathing, necessitating immediate evaluation for a heart attack\"\"\"\n",
    "        } ,\n",
    "        \n",
    "        { \"input\": \"\"\" The patient is  pregnant woman at 32 weeks gestation presents with sudden onset severe headache,\n",
    "         blurred vision, and epigastric pain, concerning for preeclampsia.\"\"\"  ,\n",
    "         \n",
    "         \"output\": \"\"\" The patient is   pregnant woman, and in her 32nd week of pregnancy, may have preeclampsia.\n",
    "         She's having a severe headache, her vision is blurry, and she feels pain in her upper abdomen.\n",
    "         These symptoms require urgent attention to avoid complications for both her and her baby.\"\"\"\n",
    "         }    \n",
    "        ]    \n",
    "\n",
    "examples_prompt = PromptTemplate(\n",
    "    input_variables=[\"input\" ,\"output\"] , template=\"{input}\\n{output}\"\n",
    ")\n",
    "\n",
    "\n",
    "print(examples_prompt.format(**examples[0] ) )"
   ]
  },
  {
   "cell_type": "code",
   "execution_count": 11,
   "metadata": {},
   "outputs": [
    {
     "name": "stdout",
     "output_type": "stream",
     "text": [
      " The patient is  pregnant woman at 32 weeks gestation presents with sudden onset severe headache,\n",
      "         blurred vision, and epigastric pain, concerning for preeclampsia.\n",
      " The patient is   pregnant woman, and in her 32nd week of pregnancy, may have preeclampsia.\n",
      "         She's having a severe headache, her vision is blurry, and she feels pain in her upper abdomen.\n",
      "         These symptoms require urgent attention to avoid complications for both her and her baby.\n"
     ]
    }
   ],
   "source": [
    "print(examples_prompt.format(**examples[1] ) )"
   ]
  },
  {
   "cell_type": "code",
   "execution_count": 19,
   "metadata": {},
   "outputs": [
    {
     "name": "stdout",
     "output_type": "stream",
     "text": [
      "my Prompt is :   The patient is  male smoker with a history of hypertension and diabetes presents to\n",
      "         the emergency room with sudden onset chest pain radiating to the jaw, associated\n",
      "         with diaphoresis and shortness of breath.\n",
      "The patient is  male smoker with a history of hypertension and diabetes,\n",
      "         is exhibiting symptoms suggestive of a myocardial infasrction, including chest pain radiating to\n",
      "         the jaw, sweating, and difficulty breathing, necessitating immediate evaluation for a heart attack\n",
      "\n",
      " The patient is  pregnant woman at 32 weeks gestation presents with sudden onset severe headache,\n",
      "         blurred vision, and epigastric pain, concerning for preeclampsia.\n",
      " The patient is   pregnant woman, and in her 32nd week of pregnancy, may have preeclampsia.\n",
      "         She's having a severe headache, her vision is blurry, and she feels pain in her upper abdomen.\n",
      "         These symptoms require urgent attention to avoid complications for both her and her baby.\n",
      "\n",
      " the patient is previously diagnosed with asthma, is experiencing a severe worsening of her symptoms,\n",
      "    characterized by wheezing, chest tightness, and limited speech due to shortness of breath,\n",
      "    warranting prompt intervention to manage the asthma exacerbation.\n"
     ]
    }
   ],
   "source": [
    "examples_prompt = PromptTemplate(\n",
    "    input_variables=[\"input\", \"output\"],\n",
    "    template=\"{input}\\n{output}\"\n",
    ")\n",
    "\n",
    "prompts = FewShotPromptTemplate(\n",
    "    example_prompt=examples_prompt,  # Provide the example_prompt\n",
    "    examples=examples,\n",
    "    suffix=\"{myinput}\",\n",
    "    input_variables=[\"myinput\"]\n",
    ")\n",
    "\n",
    "myprompt = prompts.format(\n",
    "    myinput=\"\"\" the patient is previously diagnosed with asthma, is experiencing a severe worsening of her symptoms,\n",
    "    characterized by wheezing, chest tightness, and limited speech due to shortness of breath,\n",
    "    warranting prompt intervention to manage the asthma exacerbation.\"\"\"\n",
    ")\n",
    "\n",
    "print(\"my Prompt is : \", myprompt)"
   ]
  },
  {
   "cell_type": "code",
   "execution_count": 21,
   "metadata": {},
   "outputs": [
    {
     "name": "stdout",
     "output_type": "stream",
     "text": [
      "my Prompt is : \n",
      "The patient, who has a known diagnosis of asthma, is currently experiencing a severe exacerbation of her symptoms.\n",
      "She is experiencing wheezing, tightness in her chest, and difficulty speaking due to shortness of breath.\n",
      "This requires immediate intervention to manage the exacerbation and prevent further complications.\n"
     ]
    }
   ],
   "source": [
    "response=llm.invoke(myprompt) \n",
    "\n",
    "print(\"my Prompt is :\" , response)   # output is "
   ]
  },
  {
   "cell_type": "code",
   "execution_count": null,
   "metadata": {},
   "outputs": [],
   "source": []
  },
  {
   "cell_type": "code",
   "execution_count": null,
   "metadata": {},
   "outputs": [],
   "source": []
  },
  {
   "cell_type": "code",
   "execution_count": 19,
   "metadata": {},
   "outputs": [
    {
     "name": "stdout",
     "output_type": "stream",
     "text": [
      "Here are some examples to learn from:\n",
      "\n",
      "\n",
      "Classify the following text as either 'positive' or 'negative':\n",
      "\n",
      "Text: I love this movie!\n",
      "Sentiment: positive\n",
      "\n",
      "\n",
      "\n",
      "Classify the following text as either 'positive' or 'negative':\n",
      "\n",
      "Text: This product is terrible.\n",
      "Sentiment: negative\n",
      "\n",
      "\n",
      "\n",
      "Classify the following text as either 'positive' or 'negative':\n",
      "\n",
      "Text: The weather is amazing today.\n",
      "Sentiment: positive\n",
      "\n",
      "\n",
      "Your turn:\n"
     ]
    }
   ],
   "source": [
    "from langchain.prompts import PromptTemplate, FewShotPromptTemplate\n",
    "\n",
    "# Define the examples for the few-shot prompt\n",
    "examples = [\n",
    "    {\"input\": \"I love this movie!\", \"output\": \"positive\"},\n",
    "    {\"input\": \"This product is terrible.\", \"output\": \"negative\"},\n",
    "    {\"input\": \"The weather is amazing today.\", \"output\": \"positive\"}\n",
    "]\n",
    "\n",
    "# Define the prompt template\n",
    "prompt_template = \"\"\"\n",
    "Classify the following text as either 'positive' or 'negative':\n",
    "\n",
    "Text: {input}\n",
    "Sentiment: {output}\n",
    "\"\"\"\n",
    "# Create the few-shot prompt template\n",
    "few_shot_prompt = FewShotPromptTemplate(\n",
    "        examples=examples,\n",
    "        example_prompt=PromptTemplate(input_variables=[\"input\"],template=prompt_template, ),\n",
    "        \n",
    "    prefix=\"Here are some examples to learn from:\",\n",
    "    suffix=\"Your turn:\",\n",
    "    input_variables=[\"input\"],\n",
    "    example_separator=\"\\n\\n\",   )\n",
    "\n",
    "# Use the few-shot prompt template\n",
    "input_text = \"I had a great time at the party!\"\n",
    "print(few_shot_prompt.format(input=input_text))"
   ]
  },
  {
   "cell_type": "code",
   "execution_count": null,
   "metadata": {},
   "outputs": [],
   "source": [
    "from langchain import PromptTemplate, FewShotPromptTemplate\n",
    "\n",
    "# Define the examples for the few-shot prompt\n",
    "examples = [\n",
    "    {\"input\": \"The quick brown fox jumps over the lazy dog.\", \"output\": \"It's an example sentence.\"},\n",
    "    {\"input\": \"I love Natural Language Processing.\", \"output\": \"It's expressing a positive sentiment.\"},\n",
    "    {\"input\": \"The weather is cloudy today.\", \"output\": \"It's a statement about the weather.\"}\n",
    "]\n",
    "\n",
    "# Define the prompt template\n",
    "prompt_template = \"\"\"\n",
    "For the following input text: {input}\n",
    "\n",
    "Output: {output}\n",
    "\"\"\"\n",
    "\n",
    "# Create the few-shot prompt template\n",
    "few_shot_prompt = FewShotPromptTemplate(\n",
    "    examples=examples,\n",
    "    example_prompt=PromptTemplate(\n",
    "        input_variables=[\"input\"],\n",
    "        template=prompt_template,\n",
    "    ),\n",
    "    prefix=\"Here are some examples to learn from:\",\n",
    "    suffix=\"Your turn:\",\n",
    "    input_variables=[\"input\"],\n",
    "    example_separator=\"\\n\\n\",\n",
    ")\n",
    "\n",
    "# Use the few-shot prompt template\n",
    "input_text = \"The sun is shining brightly.\"\n",
    "print(few_shot_prompt.format(input=input_text))"
   ]
  },
  {
   "cell_type": "code",
   "execution_count": null,
   "metadata": {},
   "outputs": [],
   "source": [
    "from langchain import PromptTemplate, FewShotPromptTemplate\n",
    "\n",
    "# Define the examples for the few-shot prompt\n",
    "examples = [\n",
    "    {\"input\": \"Tachycardia\", \"output\": \"Tachycardia is a term used to describe a heart rate that is higher than normal. It can be caused by various factors, such as stress, exercise, or underlying medical conditions.\"},\n",
    "    {\"input\": \"Dyspnea\", \"output\": \"Dyspnea is a medical term that refers to shortness of breath or difficulty breathing. It can be a symptom of various respiratory or cardiovascular conditions, and can range from mild to severe.\"},\n",
    "    {\"input\": \"Hypertension\", \"output\": \"Hypertension, also known as high blood pressure, is a condition where the force of blood against the artery walls is consistently higher than normal. Left untreated, it can increase the risk of heart disease, stroke, and other health problems.\"}\n",
    "]\n",
    "\n",
    "# Define the prompt template\n",
    "prompt_template = \"\"\"\n",
    "Explain the following medical term in simple language:\n",
    "\n",
    "Term: {input}\n",
    "Explanation: {output}\n",
    "\"\"\"\n",
    "\n",
    "# Create the few-shot prompt template\n",
    "few_shot_prompt = FewShotPromptTemplate(\n",
    "    examples=examples,\n",
    "    example_prompt=PromptTemplate(\n",
    "        input_variables=[\"input\"],\n",
    "        template=prompt_template,\n",
    "    ),\n",
    "    prefix=\"Here are some examples to learn from:\",\n",
    "    suffix=\"Your turn:\",\n",
    "    input_variables=[\"input\"],\n",
    "    example_separator=\"\\n\\n\",\n",
    ")\n",
    "\n",
    "# Use the few-shot prompt template\n",
    "input_term = \"Leukopenia\"\n",
    "print(few_shot_prompt.format(input=input_term))"
   ]
  }
 ],
 "metadata": {
  "kernelspec": {
   "display_name": "base",
   "language": "python",
   "name": "python3"
  },
  "language_info": {
   "codemirror_mode": {
    "name": "ipython",
    "version": 3
   },
   "file_extension": ".py",
   "mimetype": "text/x-python",
   "name": "python",
   "nbconvert_exporter": "python",
   "pygments_lexer": "ipython3",
   "version": "3.11.7"
  }
 },
 "nbformat": 4,
 "nbformat_minor": 2
}
