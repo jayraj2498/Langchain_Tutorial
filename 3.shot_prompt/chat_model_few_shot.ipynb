{
 "cells": [
  {
   "cell_type": "code",
   "execution_count": 1,
   "metadata": {},
   "outputs": [
    {
     "name": "stderr",
     "output_type": "stream",
     "text": [
      "c:\\Users\\Jayraj\\anaconda3\\Lib\\site-packages\\langchain_core\\utils\\utils.py:161: UserWarning: WARNING! open_api_key is not default parameter.\n",
      "                open_api_key was transferred to model_kwargs.\n",
      "                Please confirm that open_api_key is what you intended.\n",
      "  warnings.warn(\n"
     ]
    }
   ],
   "source": [
    "from langchain_openai import ChatOpenAI  \n",
    "from decouple import config \n",
    "secrete_key = config('OPENAI_API_KEY')   \n",
    "\n",
    "chat= ChatOpenAI(open_api_key=secrete_key )"
   ]
  },
  {
   "cell_type": "code",
   "execution_count": null,
   "metadata": {},
   "outputs": [],
   "source": [
    "secrete_key"
   ]
  },
  {
   "cell_type": "code",
   "execution_count": 12,
   "metadata": {},
   "outputs": [],
   "source": [
    "from langchain_openai import OpenAI \n",
    "chat= OpenAI(openai_api_key=secrete_key) "
   ]
  },
  {
   "cell_type": "code",
   "execution_count": 5,
   "metadata": {},
   "outputs": [
    {
     "name": "stdout",
     "output_type": "stream",
     "text": [
      "examples_prompt is  input_variables=['input', 'output'] messages=[HumanMessagePromptTemplate(prompt=PromptTemplate(input_variables=['input'], template='{input}')), AIMessagePromptTemplate(prompt=PromptTemplate(input_variables=['output'], template='{output}'))]\n"
     ]
    }
   ],
   "source": [
    "from langchain_core.prompts import ChatPromptTemplate  \n",
    "from langchain_core.prompts import FewShotChatMessagePromptTemplate  \n",
    "\n",
    "\n",
    "# chat_model \n",
    "# few_shot_prompts \n",
    "\n",
    "\n",
    "examples  =  [ \n",
    "              {\"input\" : \"2+2\"  , \"output\":\"4\"} , \n",
    "              {\"input\": \"4+4+5\" , \"output\":\"13\"}]  \n",
    "\n",
    "\n",
    "examples_prompt =  ChatPromptTemplate.from_messages([ \n",
    "   (\"human\" , \"{input}\"), \n",
    "   (\"ai\",\"{output}\"),     \n",
    "   ] )  \n",
    "\n",
    "print(\"examples_prompt is \" ,  examples_prompt) "
   ]
  },
  {
   "cell_type": "code",
   "execution_count": 6,
   "metadata": {},
   "outputs": [
    {
     "name": "stdout",
     "output_type": "stream",
     "text": [
      "few_shot_mag_cht_prompt Human: 2+2\n",
      "AI: 4\n",
      "Human: 4+4+5\n",
      "AI: 13\n"
     ]
    }
   ],
   "source": [
    "\n",
    "examples  =  [ \n",
    "              {\"input\" : \"2+2\"  , \"output\":\"4\"} , \n",
    "              {\"input\": \"4+4+5\" , \"output\":\"13\"}]  \n",
    "\n",
    "\n",
    "chat_examples_prompt =  ChatPromptTemplate.from_messages([ \n",
    "   (\"human\" , \"{input}\"), \n",
    "   (\"ai\",\"{output}\"),     ] )    \n",
    "\n",
    "\n",
    "fschat_msg_prompt=FewShotChatMessagePromptTemplate(\n",
    "    examples=examples , \n",
    "    example_prompt=chat_examples_prompt)   \n",
    "\n",
    "print(\"few_shot_mag_cht_prompt\" , fschat_msg_prompt.format())\n",
    "\n"
   ]
  },
  {
   "cell_type": "code",
   "execution_count": 8,
   "metadata": {},
   "outputs": [
    {
     "name": "stdout",
     "output_type": "stream",
     "text": [
      "final_prompt is  input_variables=['input'] messages=[SystemMessagePromptTemplate(prompt=PromptTemplate(input_variables=[], template='you are the helpful math problem solver ')), FewShotChatMessagePromptTemplate(examples=[{'input': '2+2', 'output': '4'}, {'input': '4+4+5', 'output': '13'}], example_prompt=ChatPromptTemplate(input_variables=['input', 'output'], messages=[HumanMessagePromptTemplate(prompt=PromptTemplate(input_variables=['input'], template='{input}')), AIMessagePromptTemplate(prompt=PromptTemplate(input_variables=['output'], template='{output}'))])), HumanMessagePromptTemplate(prompt=PromptTemplate(input_variables=['input'], template='{input}'))]\n"
     ]
    }
   ],
   "source": [
    "final_prompt = ChatPromptTemplate.from_messages([\n",
    "    \n",
    "    (\"system\" , \"you are the helpful math problem solver \") , \n",
    "    fschat_msg_prompt , \n",
    "    (\"human\" , \"{input}\") , \n",
    " ])   \n",
    "\n",
    "\n",
    "print(\"final_prompt is \" , final_prompt ) "
   ]
  },
  {
   "cell_type": "code",
   "execution_count": 15,
   "metadata": {},
   "outputs": [
    {
     "name": "stdout",
     "output_type": "stream",
     "text": [
      "response output is  \n",
      "AI: The square of a square is the fourth power of the original number. So, for example, the square of 3 would be 3 to the fourth power, or 81.\n"
     ]
    }
   ],
   "source": [
    "formated_chat_prompt = final_prompt.format_messages( \n",
    "input= \"whats is the square of square ?\")   \n",
    "\n",
    "response = chat.invoke(formated_chat_prompt) \n",
    "\n",
    "print(\"response output is \"  , response) "
   ]
  },
  {
   "cell_type": "code",
   "execution_count": null,
   "metadata": {},
   "outputs": [],
   "source": []
  },
  {
   "cell_type": "code",
   "execution_count": 16,
   "metadata": {},
   "outputs": [
    {
     "name": "stdout",
     "output_type": "stream",
     "text": [
      "response output is  \n",
      "AI: The square of 25 is 625.\n"
     ]
    }
   ],
   "source": [
    "\n",
    "examples  =  [ \n",
    "              {\"input\" : \"2+2\"  , \"output\":\"4\"} , \n",
    "              {\"input\": \"4+4+5\" , \"output\":\"13\"}]  \n",
    "\n",
    "\n",
    "chat_examples_prompt =  ChatPromptTemplate.from_messages([ \n",
    "   (\"human\" , \"{input}\"), \n",
    "   (\"ai\",\"{output}\"),     ] )    \n",
    "\n",
    "\n",
    "fschat_msg_prompt=FewShotChatMessagePromptTemplate(\n",
    "    examples=examples , \n",
    "    example_prompt=chat_examples_prompt)   \n",
    "\n",
    "\n",
    "\n",
    "final_prompt = ChatPromptTemplate.from_messages([\n",
    "    \n",
    "    (\"system\" , \"you are the helpful math problem solver \") , \n",
    "    fschat_msg_prompt , \n",
    "    (\"human\" , \"{input}\") , \n",
    " ])   \n",
    "\n",
    "\n",
    "formated_chat_prompt = final_prompt.format_messages( \n",
    "input= \"whats is the square of 25 ?\")   \n",
    "\n",
    "response = chat.invoke(formated_chat_prompt) \n",
    "\n",
    "print(\"response output is \"  , response) \n"
   ]
  },
  {
   "cell_type": "code",
   "execution_count": null,
   "metadata": {},
   "outputs": [],
   "source": []
  }
 ],
 "metadata": {
  "kernelspec": {
   "display_name": "base",
   "language": "python",
   "name": "python3"
  },
  "language_info": {
   "codemirror_mode": {
    "name": "ipython",
    "version": 3
   },
   "file_extension": ".py",
   "mimetype": "text/x-python",
   "name": "python",
   "nbconvert_exporter": "python",
   "pygments_lexer": "ipython3",
   "version": "3.11.7"
  }
 },
 "nbformat": 4,
 "nbformat_minor": 2
}
