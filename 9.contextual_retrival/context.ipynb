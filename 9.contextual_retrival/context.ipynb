{
 "cells": [
  {
   "cell_type": "markdown",
   "metadata": {},
   "source": [
    "Contextual retrieval in the OpenAI LangChain Python library is a technique that combines semantic search and natural \n",
    "\n",
    "language processing to improve the relevance of retrieved information from a knowledge base or corpus of documents."
   ]
  },
  {
   "cell_type": "markdown",
   "metadata": {},
   "source": [
    "when we give query it give us answer but most of time that query related respone we dont able to get properly \n",
    "we get output but it is not that much impactfull beoz of huge data  \n",
    "\n",
    "and pass the full document it also expensive \n",
    "\n",
    "these problem solve by contextual retrival \n",
    "\n",
    "by using that we make model response good and contextual \n"
   ]
  },
  {
   "cell_type": "code",
   "execution_count": 23,
   "metadata": {},
   "outputs": [],
   "source": [
    "from decouple import config \n",
    "secrete_key = config('OPENAI_API_KEY') "
   ]
  },
  {
   "cell_type": "code",
   "execution_count": 30,
   "metadata": {},
   "outputs": [],
   "source": [
    "from langchain_openai import ChatOpenAI \n",
    "chat=ChatOpenAI(openai_api_key=secrete_key) "
   ]
  },
  {
   "cell_type": "code",
   "execution_count": 24,
   "metadata": {},
   "outputs": [],
   "source": [
    "from langchain_openai import OpenAIEmbeddings  \n",
    "models=OpenAIEmbeddings (openai_api_key=secrete_key)"
   ]
  },
  {
   "cell_type": "code",
   "execution_count": 25,
   "metadata": {},
   "outputs": [],
   "source": [
    "from langchain_openai import ChatOpenAI \n",
    "from langchain_community.document_loaders import TextLoader \n",
    "from langchain_openai import OpenAIEmbeddings \n",
    "from langchain.text_splitter import CharacterTextSplitter \n",
    "from langchain_community.vectorstores import Chroma   \n",
    "\n",
    "\n",
    "from langchain.retrievers import ContextualCompressionRetriever  \n",
    "from langchain.retrievers.document_compressors import LLMChainExtractor   "
   ]
  },
  {
   "cell_type": "code",
   "execution_count": 26,
   "metadata": {},
   "outputs": [],
   "source": [
    "# Load data \n",
    "\n",
    "Loader=TextLoader('E:\\\\Langchain_Prac\\\\9.contextual_retrival\\\\notes.txt') \n",
    "my_data= Loader.load()  \n",
    "\n",
    "# split documnet \n",
    "text_splitter =CharacterTextSplitter(chunk_size=600 , chunk_overlap=0)   \n",
    "\n",
    "my_document = text_splitter.split_documents(my_data) \n",
    "\n",
    "# embeding_model \n",
    "model_emb =OpenAIEmbeddings(openai_api_key=secrete_key)  \n",
    "\n",
    "# store \n",
    "db=Chroma.from_documents(my_document , model_emb , persist_directory=\"./chroma_db1\") \n",
    "\n",
    "db.persist()  "
   ]
  },
  {
   "cell_type": "code",
   "execution_count": 27,
   "metadata": {},
   "outputs": [
    {
     "name": "stdout",
     "output_type": "stream",
     "text": [
      "2. **Shift to UAE**:\n",
      "   Due to the COVID-19 pandemic, the IPL has occasionally shifted its matches to the United Arab Emirates (UAE) to ensure the safety of players and staff. The UAE has served as a reliable backup venue, hosting IPL matches in 2020 and 2021, showcasing the league's adaptability and resilience.\n"
     ]
    }
   ],
   "source": [
    "# read_from chroma db   \n",
    "\n",
    "db_connections = Chroma(embedding_function= model_emb , persist_directory=\"./chroma_db1\" ) \n",
    "\n",
    "query = \" in whcih years IPL matches hosted in United Arab Emirates ?\"  \n",
    "\n",
    "# vector store retrival \n",
    "\n",
    "retrival = db_connections.as_retriever(search_kwargs={\"k\":1}) \n",
    "\n",
    "similar_doc =retrival.get_relevant_documents(query)  \n",
    "\n",
    "print(similar_doc[0].page_content) \n",
    "\n",
    "\n",
    "#  LangChainDeprecationWarning: The method `BaseRetriever.get_relevant_documents` was deprecated in langchain-core 0.1.46 \n",
    "# and will be removed in 0.3.0. Use invoke instead."
   ]
  },
  {
   "cell_type": "code",
   "execution_count": 28,
   "metadata": {},
   "outputs": [],
   "source": [
    "from langchain.retrievers import ContextualCompressionRetriever  \n",
    "from langchain.retrievers.document_compressors import LLMChainExtractor  "
   ]
  },
  {
   "cell_type": "markdown",
   "metadata": {},
   "source": [
    "#### to get only relavent answers in less words we use contextual_trrival "
   ]
  },
  {
   "cell_type": "code",
   "execution_count": 34,
   "metadata": {},
   "outputs": [
    {
     "name": "stdout",
     "output_type": "stream",
     "text": [
      "hosting IPL matches in 2020 and 2021\n"
     ]
    }
   ],
   "source": [
    "\n",
    "# Initialize the Chroma DB connection\n",
    "db_connections = Chroma(embedding_function=model_emb, persist_directory=\"./chroma_db1\")\n",
    "\n",
    "\n",
    "query = \"In which years were IPL matches hosted in the United Arab Emirates?\"\n",
    "\n",
    "# compressor\n",
    "compressor = LLMChainExtractor.from_llm(chat)\n",
    "\n",
    "#  contextual compression retriever\n",
    "compression_retrieval = ContextualCompressionRetriever(base_compressor=compressor, base_retriever=db_connections.as_retriever())\n",
    "\n",
    "# Get relevant documents using the contextual compression retriever\n",
    "similar_docs = compression_retrieval.get_relevant_documents(query)\n",
    "\n",
    "print(similar_docs[0].page_content)"
   ]
  },
  {
   "cell_type": "code",
   "execution_count": 56,
   "metadata": {},
   "outputs": [],
   "source": [
    "from langchain_community.vectorstores import Chroma \n",
    "from langchain.retrievers import ContextualCompressionRetriever\n",
    "from langchain.chains import ConversationalRetrievalChain\n",
    "from langchain_openai import ChatOpenAI\n",
    "from langchain import OpenAI\n",
    "from langchain.embeddings import OpenAIEmbeddings\n",
    "\n",
    "# Load the documents into a Chroma vector store\n",
    "documents = [\n",
    "    \"The Lord of the Rings is a book series written by J.R.R. Tolkien. The series consists of three books: The Fellowship of the Ring, The Two Towers, and The Return of the King.\",\n",
    "    \"The Hobbit is a fantasy novel written by J.R.R. Tolkien. It tells the story of Bilbo Baggins and his adventures with dwarves and wizards.\",\n",
    "    \"Harry Potter is a book series written by J.K. Rowling. It follows the story of a young wizard named Harry Potter and his friends at the Hogwarts School of Witchcraft and Wizardry.\",\n",
    "    \"The Lord of the Rings movies were directed by Peter Jackson and released between 2001 and 2003. The movies were highly successful and won multiple Academy Awards.\"\n",
    "]\n",
    "\n",
    "# Initialize the embedding function\n",
    "embedding_function = OpenAIEmbeddings()\n",
    "\n",
    "# Create the Chroma vector store with the embedding function\n",
    "vectorstore = Chroma.from_texts(documents, embedding=embedding_function)\n",
    "\n",
    "# Initialize the chat model\n",
    "chat=ChatOpenAI(openai_api_key=secrete_key) \n",
    "# chat = ChatOpenAI(model_name=\"gpt-4\")\n",
    "\n",
    "# Create a contextual compression retriever and a conversational retrieval chain\n",
    "compressor = ContextualCompressionRetriever(base_compressor=chat, base_retriever=vectorstore.as_retriever())\n",
    "qa = ConversationalRetrievalChain.from_llm(llm=chat, retriever=compressor)\n",
    "\n",
    "# Ask a series of questions\n",
    "chat_history = []\n",
    "query = \"What is the Lord of the Rings series about?\"\n",
    "result = qa({\"query\": query, \"chat_history\": chat_history})\n",
    "print(result['result'])\n",
    "chat_history.append((query, result['result']))\n",
    "\n",
    "query = \"How many books are in the series?\"\n",
    "result = qa({\"query\": query, \"chat_history\": chat_history})\n",
    "print(result['result'])\n",
    "chat_history.append((query, result['result']))\n"
   ]
  },
  {
   "cell_type": "code",
   "execution_count": null,
   "metadata": {},
   "outputs": [],
   "source": []
  },
  {
   "cell_type": "code",
   "execution_count": null,
   "metadata": {},
   "outputs": [],
   "source": []
  }
 ],
 "metadata": {
  "kernelspec": {
   "display_name": "base",
   "language": "python",
   "name": "python3"
  },
  "language_info": {
   "codemirror_mode": {
    "name": "ipython",
    "version": 3
   },
   "file_extension": ".py",
   "mimetype": "text/x-python",
   "name": "python",
   "nbconvert_exporter": "python",
   "pygments_lexer": "ipython3",
   "version": "3.11.7"
  }
 },
 "nbformat": 4,
 "nbformat_minor": 2
}
